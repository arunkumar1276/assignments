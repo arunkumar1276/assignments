{
 "cells": [
  {
   "cell_type": "code",
   "execution_count": 4,
   "metadata": {},
   "outputs": [],
   "source": [
    "import pandas as pd\n",
    "import duckdb as ddb"
   ]
  },
  {
   "cell_type": "code",
   "execution_count": 15,
   "metadata": {},
   "outputs": [],
   "source": [
    "case_action_events = ddb.read_csv('C:\\\\Users\\\\arunk\\\\Downloads\\\\ato_data_challenge\\\\case_action_events.csv')\n",
    "case_events = ddb.read_csv('C:\\\\Users\\\\arunk\\\\Downloads\\\\ato_data_challenge\\\\case_events.csv')\n",
    "customer_action_events = ddb.read_csv('C:\\\\Users\\\\arunk\\\\Downloads\\\\ato_data_challenge\\\\customer_action_events.csv')\n",
    "customer_case_events = ddb.read_csv('C:\\\\Users\\\\arunk\\\\Downloads\\\\ato_data_challenge\\\\customer_case_events.csv')\n",
    "customers = ddb.read_csv('C:\\\\Users\\\\arunk\\\\Downloads\\\\ato_data_challenge\\\\customers.csv')\n",
    "detector_events = ddb.read_csv('C:\\\\Users\\\\arunk\\\\Downloads\\\\ato_data_challenge\\\\detector_events.csv')\n",
    "user_events = ddb.read_csv('C:\\\\Users\\\\arunk\\\\Downloads\\\\ato_data_challenge\\\\user_events.csv')\n"
   ]
  },
  {
   "cell_type": "code",
   "execution_count": 60,
   "metadata": {},
   "outputs": [
    {
     "data": {
      "text/plain": [
       "┌─────────────┬─────────┬──────────────────────┬─────────────────────┬───────────────────────────────────────────────────────────────────────────────────────────────────────────────────┐\n",
       "│ customer_id │ case_id │ customer_action_type │ customer_action_ts  │                                                 customer_comment                                                  │\n",
       "│    int64    │  int64  │       varchar        │      timestamp      │                                                      varchar                                                      │\n",
       "├─────────────┼─────────┼──────────────────────┼─────────────────────┼───────────────────────────────────────────────────────────────────────────────────────────────────────────────────┤\n",
       "│          10 │       1 │ PAGE_VIEW            │ 2020-01-04 21:33:51 │ null                                                                                                              │\n",
       "│          10 │       1 │ RESOLVE              │ 2020-01-04 21:57:37 │ null                                                                                                              │\n",
       "│           3 │       2 │ PAGE_VIEW            │ 2020-01-05 16:56:28 │ null                                                                                                              │\n",
       "│           6 │       6 │ PAGE_VIEW            │ 2020-01-09 10:14:38 │ null                                                                                                              │\n",
       "│           6 │       6 │ ACKNOWLEDGE          │ 2020-01-09 10:34:52 │ null                                                                                                              │\n",
       "│           4 │       7 │ PAGE_VIEW            │ 2020-01-08 10:08:41 │ null                                                                                                              │\n",
       "│           4 │       7 │ RESOLVE              │ 2020-01-08 10:50:03 │ null                                                                                                              │\n",
       "│           7 │      17 │ PAGE_VIEW            │ 2020-01-23 13:40:57 │ null                                                                                                              │\n",
       "│           7 │      17 │ NOT_A_COMPROMISE     │ 2020-01-23 13:55:39 │ null                                                                                                              │\n",
       "│           6 │      18 │ PAGE_VIEW            │ 2020-01-23 19:58:45 │ null                                                                                                              │\n",
       "│           · │       · │     ·                │          ·          │  ·                                                                                                                │\n",
       "│           · │       · │     ·                │          ·          │  ·                                                                                                                │\n",
       "│           · │       · │     ·                │          ·          │  ·                                                                                                                │\n",
       "│           3 │     384 │ NOT_A_COMPROMISE     │ 2020-12-19 20:11:55 │ false positive                                                                                                    │\n",
       "│           7 │     389 │ PAGE_VIEW            │ 2020-12-24 11:02:34 │ null                                                                                                              │\n",
       "│           7 │     389 │ RESOLVE              │ 2020-12-24 11:26:40 │ Our investigation confirmed the alert was a result of a breach: unauthorized access from a suspicious user agent. │\n",
       "│           7 │     390 │ PAGE_VIEW            │ 2020-12-27 13:31:09 │ null                                                                                                              │\n",
       "│           8 │     391 │ PAGE_VIEW            │ 2020-12-30 11:39:58 │ null                                                                                                              │\n",
       "│           8 │     391 │ ACKNOWLEDGE          │ 2020-12-30 11:50:01 │ null                                                                                                              │\n",
       "│           7 │     392 │ PAGE_VIEW            │ 2020-12-30 00:56:09 │ null                                                                                                              │\n",
       "│           3 │     393 │ PAGE_VIEW            │ 2020-12-31 20:33:25 │ null                                                                                                              │\n",
       "│           7 │     399 │ PAGE_VIEW            │ 2021-01-03 15:09:26 │ null                                                                                                              │\n",
       "│           7 │     399 │ ACKNOWLEDGE          │ 2021-01-03 15:20:10 │ null                                                                                                              │\n",
       "├─────────────┴─────────┴──────────────────────┴─────────────────────┴───────────────────────────────────────────────────────────────────────────────────────────────────────────────────┤\n",
       "│ 242 rows (20 shown)                                                                                                                                                          5 columns │\n",
       "└────────────────────────────────────────────────────────────────────────────────────────────────────────────────────────────────────────────────────────────────────────────────────────┘"
      ]
     },
     "execution_count": 60,
     "metadata": {},
     "output_type": "execute_result"
    }
   ],
   "source": [
    "customer_action_events"
   ]
  },
  {
   "cell_type": "code",
   "execution_count": 61,
   "metadata": {},
   "outputs": [
    {
     "data": {
      "text/plain": [
       "┌─────────────┬─────────┬──────────────────┬─────────────────────┬───────────────────┬──────────────────────────┐\n",
       "│ customer_id │ user_id │ reported_case_id │  report_timestamp   │ reported_event_id │ reported_event_timestamp │\n",
       "│    int64    │  int64  │      int64       │      timestamp      │       int64       │        timestamp         │\n",
       "├─────────────┼─────────┼──────────────────┼─────────────────────┼───────────────────┼──────────────────────────┤\n",
       "│          10 │     219 │              402 │ 2020-06-16 02:05:30 │              2546 │ 2020-06-15 07:26:57      │\n",
       "│           3 │     133 │              404 │ 2020-02-16 03:29:07 │              3831 │ 2020-02-15 12:37:57      │\n",
       "│           2 │      82 │              401 │ 2020-08-16 04:14:38 │              9253 │ 2020-08-15 01:20:14      │\n",
       "│           6 │      72 │              403 │ 2020-12-01 13:51:34 │              8928 │ 2020-11-29 18:53:41      │\n",
       "│           2 │     179 │              405 │ 2020-10-15 17:18:58 │              1241 │ 2020-10-15 08:09:23      │\n",
       "└─────────────┴─────────┴──────────────────┴─────────────────────┴───────────────────┴──────────────────────────┘"
      ]
     },
     "execution_count": 61,
     "metadata": {},
     "output_type": "execute_result"
    }
   ],
   "source": [
    "customer_case_events"
   ]
  },
  {
   "cell_type": "code",
   "execution_count": 33,
   "metadata": {},
   "outputs": [
    {
     "data": {
      "text/plain": [
       "┌─────────────┬─────────┬──────────┬────────────────┬─────────────┬──────────────────┬─────────────────────┐\n",
       "│ customer_id │ user_id │ event_id │   event_type   │ detector_id │ confidence_level │   event_timestamp   │\n",
       "│    int64    │  int64  │  int64   │    varchar     │   varchar   │     varchar      │      timestamp      │\n",
       "├─────────────┼─────────┼──────────┼────────────────┼─────────────┼──────────────────┼─────────────────────┤\n",
       "│           3 │     137 │     3155 │ MAILFILTER     │ DETECTOR_5  │ HIGH             │ 2020-05-16 14:49:01 │\n",
       "│           2 │     167 │     3897 │ SIGN_IN        │ DETECTOR_1  │ LOW              │ 2020-09-23 01:08:58 │\n",
       "│           8 │     187 │     4206 │ POSTURE_CHANGE │ DETECTOR_6  │ HIGH             │ 2020-02-04 14:51:10 │\n",
       "│           2 │     101 │     1619 │ POSTURE_CHANGE │ DETECTOR_6  │ HIGH             │ 2020-03-31 02:34:51 │\n",
       "│           6 │     155 │     8729 │ POSTURE_CHANGE │ DETECTOR_6  │ LOW              │ 2020-11-16 21:05:15 │\n",
       "│           3 │      36 │     4770 │ SIGN_IN        │ DETECTOR_1  │ LOW              │ 2020-03-29 23:04:24 │\n",
       "│          10 │     288 │     6357 │ POSTURE_CHANGE │ DETECTOR_6  │ HIGH             │ 2020-05-21 22:23:10 │\n",
       "│          10 │      49 │     5175 │ MAILFILTER     │ DETECTOR_5  │ LOW              │ 2020-04-09 04:19:03 │\n",
       "│           2 │      19 │     8081 │ SIGN_IN        │ DETECTOR_3  │ LOW              │ 2020-05-20 15:45:35 │\n",
       "│          10 │     193 │     3434 │ SIGN_IN        │ DETECTOR_2  │ HIGH             │ 2020-10-06 20:28:26 │\n",
       "│           · │      ·  │       ·  │    ·           │     ·       │  ·               │          ·          │\n",
       "│           · │      ·  │       ·  │    ·           │     ·       │  ·               │          ·          │\n",
       "│           · │      ·  │       ·  │    ·           │     ·       │  ·               │          ·          │\n",
       "│           2 │     110 │     6861 │ MAILFILTER     │ DETECTOR_5  │ HIGH             │ 2020-11-06 01:13:44 │\n",
       "│           7 │      89 │     2659 │ MAILFILTER     │ DETECTOR_5  │ LOW              │ 2020-12-10 16:20:44 │\n",
       "│           4 │     132 │     3998 │ SIGN_IN        │ DETECTOR_1  │ LOW              │ 2020-01-23 12:51:02 │\n",
       "│           2 │     158 │     7223 │ POSTURE_CHANGE │ DETECTOR_6  │ HIGH             │ 2020-06-22 10:15:37 │\n",
       "│           2 │     115 │     3442 │ POSTURE_CHANGE │ DETECTOR_6  │ HIGH             │ 2020-01-23 19:40:45 │\n",
       "│           8 │      78 │     1547 │ POSTURE_CHANGE │ DETECTOR_6  │ LOW              │ 2020-08-04 12:45:21 │\n",
       "│           8 │     175 │     8692 │ MAILFILTER     │ DETECTOR_4  │ HIGH             │ 2020-04-19 01:24:58 │\n",
       "│           8 │     191 │     1863 │ SIGN_IN        │ DETECTOR_3  │ LOW              │ 2020-07-15 13:58:59 │\n",
       "│           4 │     162 │     6989 │ SIGN_IN        │ DETECTOR_2  │ LOW              │ 2020-03-26 06:49:24 │\n",
       "│           7 │     137 │     3432 │ SIGN_IN        │ DETECTOR_2  │ LOW              │ 2020-07-19 14:15:03 │\n",
       "├─────────────┴─────────┴──────────┴────────────────┴─────────────┴──────────────────┴─────────────────────┤\n",
       "│ 877 rows (20 shown)                                                                            7 columns │\n",
       "└──────────────────────────────────────────────────────────────────────────────────────────────────────────┘"
      ]
     },
     "execution_count": 33,
     "metadata": {},
     "output_type": "execute_result"
    }
   ],
   "source": [
    "detector_events"
   ]
  },
  {
   "cell_type": "code",
   "execution_count": 35,
   "metadata": {},
   "outputs": [
    {
     "data": {
      "text/plain": [
       "┌─────────┬───────────┬────────────────────────────────┬─────────────────────┐\n",
       "│ case_id │ action_id │          action_type           │  action_timestamp   │\n",
       "│  int64  │   int64   │            varchar             │      timestamp      │\n",
       "├─────────┼───────────┼────────────────────────────────┼─────────────────────┤\n",
       "│       1 │        10 │ REVOKE_SESSIONS_RESET_PASSWORD │ 2020-01-01 04:35:18 │\n",
       "│       2 │        20 │ REVOKE_SESSIONS                │ 2020-01-01 09:35:57 │\n",
       "│       3 │        30 │ REVOKE_SESSIONS                │ 2020-01-01 18:16:17 │\n",
       "│       4 │        40 │ REVOKE_SESSIONS                │ 2020-01-01 19:54:28 │\n",
       "│       5 │        50 │ REVOKE_SESSIONS                │ 2020-01-04 14:47:10 │\n",
       "│       6 │        60 │ NOTIFICATION                   │ 2020-01-05 21:22:58 │\n",
       "│       7 │        70 │ REVOKE_SESSIONS_RESET_PASSWORD │ 2020-01-07 03:18:38 │\n",
       "│       8 │        80 │ REVOKE_SESSIONS_RESET_PASSWORD │ 2020-01-08 22:49:59 │\n",
       "│       9 │        90 │ REVOKE_SESSIONS_RESET_PASSWORD │ 2020-01-10 18:12:55 │\n",
       "│      10 │       100 │ NOTIFICATION                   │ 2020-01-11 01:00:30 │\n",
       "│       · │        ·  │      ·                         │          ·          │\n",
       "│       · │        ·  │      ·                         │          ·          │\n",
       "│       · │        ·  │      ·                         │          ·          │\n",
       "│     391 │      3910 │ REVOKE_SESSIONS                │ 2020-12-24 08:40:18 │\n",
       "│     392 │      3920 │ REVOKE_SESSIONS                │ 2020-12-24 14:53:26 │\n",
       "│     393 │      3930 │ REVOKE_SESSIONS                │ 2020-12-25 03:50:55 │\n",
       "│     394 │      3940 │ REVOKE_SESSIONS                │ 2020-12-25 11:00:25 │\n",
       "│     395 │      3950 │ REVOKE_SESSIONS_RESET_PASSWORD │ 2020-12-26 14:08:44 │\n",
       "│     396 │      3960 │ REVOKE_SESSIONS_RESET_PASSWORD │ 2020-12-27 00:59:04 │\n",
       "│     397 │      3970 │ REVOKE_SESSIONS_RESET_PASSWORD │ 2020-12-27 01:48:19 │\n",
       "│     398 │      3980 │ REVOKE_SESSIONS                │ 2020-12-28 16:09:19 │\n",
       "│     399 │      3990 │ REVOKE_SESSIONS                │ 2020-12-29 07:06:57 │\n",
       "│     400 │      4000 │ REVOKE_SESSIONS_RESET_PASSWORD │ 2020-12-29 07:40:13 │\n",
       "├─────────┴───────────┴────────────────────────────────┴─────────────────────┤\n",
       "│ 405 rows (20 shown)                                              4 columns │\n",
       "└────────────────────────────────────────────────────────────────────────────┘"
      ]
     },
     "execution_count": 35,
     "metadata": {},
     "output_type": "execute_result"
    }
   ],
   "source": [
    "case_action_events"
   ]
  },
  {
   "cell_type": "code",
   "execution_count": 34,
   "metadata": {},
   "outputs": [
    {
     "data": {
      "text/plain": [
       "┌─────────────┬─────────┬──────────┬────────────────┬─────────────────────┐\n",
       "│ customer_id │ user_id │ event_id │   event_type   │   event_timestamp   │\n",
       "│    int64    │  int64  │  int64   │    varchar     │      timestamp      │\n",
       "├─────────────┼─────────┼──────────┼────────────────┼─────────────────────┤\n",
       "│           6 │     135 │     6596 │ POSTURE_CHANGE │ 2020-10-30 13:30:43 │\n",
       "│           8 │     216 │     4818 │ POSTURE_CHANGE │ 2020-10-04 09:41:37 │\n",
       "│           8 │     107 │     7010 │ POSTURE_CHANGE │ 2020-01-01 04:28:11 │\n",
       "│           8 │     188 │     5936 │ POSTURE_CHANGE │ 2020-04-01 17:01:13 │\n",
       "│           6 │     116 │     7624 │ DATA_DOWNLOAD  │ 2020-09-03 12:52:37 │\n",
       "│          10 │     186 │     6466 │ DATA_DOWNLOAD  │ 2020-12-07 10:02:13 │\n",
       "│           7 │     193 │     5110 │ DATA_DOWNLOAD  │ 2020-02-25 10:15:50 │\n",
       "│           1 │      11 │     8990 │ DATA_DOWNLOAD  │ 2020-10-09 17:40:51 │\n",
       "│           1 │      26 │     6129 │ POSTURE_CHANGE │ 2020-05-23 08:14:07 │\n",
       "│           3 │     137 │     3155 │ MAILFILTER     │ 2020-05-16 14:49:01 │\n",
       "│           · │      ·  │       ·  │    ·           │          ·          │\n",
       "│           · │      ·  │       ·  │    ·           │          ·          │\n",
       "│           · │      ·  │       ·  │    ·           │          ·          │\n",
       "│           4 │     162 │     6989 │ SIGN_IN        │ 2020-03-26 06:49:24 │\n",
       "│           7 │     137 │     3432 │ SIGN_IN        │ 2020-07-19 14:15:03 │\n",
       "│           3 │     173 │     4225 │ DATA_DOWNLOAD  │ 2020-05-12 03:59:34 │\n",
       "│           3 │     152 │     1330 │ POSTURE_CHANGE │ 2020-01-28 07:16:10 │\n",
       "│           1 │      47 │     8546 │ DATA_DOWNLOAD  │ 2020-04-05 19:10:48 │\n",
       "│           3 │     301 │     4460 │ POSTURE_CHANGE │ 2020-04-09 21:17:23 │\n",
       "│           7 │     355 │     5315 │ MAILFILTER     │ 2020-04-27 19:38:30 │\n",
       "│           2 │     133 │     6899 │ DATA_DOWNLOAD  │ 2020-06-07 08:34:13 │\n",
       "│           7 │     171 │     8212 │ DATA_DOWNLOAD  │ 2020-10-26 05:57:21 │\n",
       "│           3 │     265 │     5957 │ SIGN_IN        │ 2020-05-06 01:50:08 │\n",
       "├─────────────┴─────────┴──────────┴────────────────┴─────────────────────┤\n",
       "│ 5000 rows (20 shown)                                          5 columns │\n",
       "└─────────────────────────────────────────────────────────────────────────┘"
      ]
     },
     "execution_count": 34,
     "metadata": {},
     "output_type": "execute_result"
    }
   ],
   "source": []
  },
  {
   "cell_type": "markdown",
   "metadata": {},
   "source": [
    "# 1.Describing the data"
   ]
  },
  {
   "cell_type": "markdown",
   "metadata": {},
   "source": [
    "## a. How many customers do we have ATO product data for?"
   ]
  },
  {
   "cell_type": "code",
   "execution_count": null,
   "metadata": {},
   "outputs": [
    {
     "data": {
      "text/plain": [
       "┌───────────┐\n",
       "│ customers │\n",
       "│   int64   │\n",
       "├───────────┤\n",
       "│        10 │\n",
       "└───────────┘"
      ]
     },
     "execution_count": 40,
     "metadata": {},
     "output_type": "execute_result"
    }
   ],
   "source": [
    "ddb.sql('''\n",
    "    SELECT \n",
    "        COUNT(DISTINCT customer_id) AS customers \n",
    "    FROM customers\n",
    "''')\n"
   ]
  },
  {
   "cell_type": "markdown",
   "metadata": {},
   "source": [
    "## b. Over what time period does the ATO data exist?\n"
   ]
  },
  {
   "cell_type": "code",
   "execution_count": 41,
   "metadata": {},
   "outputs": [
    {
     "data": {
      "text/plain": [
       "┌─────────────────────┬─────────────────────┐\n",
       "│     first_event     │     last_event      │\n",
       "│      timestamp      │      timestamp      │\n",
       "├─────────────────────┼─────────────────────┤\n",
       "│ 2020-01-01 03:56:31 │ 2020-12-31 22:01:31 │\n",
       "└─────────────────────┴─────────────────────┘"
      ]
     },
     "execution_count": 41,
     "metadata": {},
     "output_type": "execute_result"
    }
   ],
   "source": [
    "ddb.sql('''\n",
    "    SELECT \n",
    "        MIN(event_timestamp) AS first_event,\n",
    "        MAX(event_timestamp) AS last_event \n",
    "    FROM user_events\n",
    "''')"
   ]
  },
  {
   "cell_type": "markdown",
   "metadata": {},
   "source": [
    "## c. How many ATO detectors are there?"
   ]
  },
  {
   "cell_type": "code",
   "execution_count": 42,
   "metadata": {},
   "outputs": [
    {
     "data": {
      "text/plain": [
       "┌───────────┐\n",
       "│ detectors │\n",
       "│   int64   │\n",
       "├───────────┤\n",
       "│         6 │\n",
       "└───────────┘"
      ]
     },
     "execution_count": 42,
     "metadata": {},
     "output_type": "execute_result"
    }
   ],
   "source": [
    "ddb.sql('''\n",
    "    SELECT \n",
    "        COUNT(DISTINCT detector_id) AS detectors \n",
    "    FROM detector_events\n",
    "''')"
   ]
  },
  {
   "cell_type": "markdown",
   "metadata": {},
   "source": [
    "## d. What is the range of customer sizes by number of users?"
   ]
  },
  {
   "cell_type": "code",
   "execution_count": 43,
   "metadata": {},
   "outputs": [
    {
     "data": {
      "text/plain": [
       "┌───────────┬───────────┐\n",
       "│ min_users │ max_users │\n",
       "│   int64   │   int64   │\n",
       "├───────────┼───────────┤\n",
       "│        14 │       371 │\n",
       "└───────────┴───────────┘"
      ]
     },
     "execution_count": 43,
     "metadata": {},
     "output_type": "execute_result"
    }
   ],
   "source": [
    "ddb.sql('''\n",
    "    SELECT \n",
    "        MIN(cnt_users) AS min_users,\n",
    "        MAX(cnt_users) As max_users \n",
    "    FROM customers\n",
    "''')"
   ]
  },
  {
   "cell_type": "markdown",
   "metadata": {},
   "source": [
    "# 2. Calculating metrics"
   ]
  },
  {
   "cell_type": "markdown",
   "metadata": {},
   "source": [
    "# a. What is the average monthly false negative rate (FNR) of the ATO product?\n"
   ]
  },
  {
   "cell_type": "code",
   "execution_count": 58,
   "metadata": {},
   "outputs": [
    {
     "data": {
      "text/plain": [
       "┌───────┬────────────────┐\n",
       "│ month │ true_positives │\n",
       "│ int64 │     int64      │\n",
       "├───────┼────────────────┤\n",
       "│     1 │             35 │\n",
       "│     2 │             36 │\n",
       "│     3 │             33 │\n",
       "│     4 │             36 │\n",
       "│     5 │             36 │\n",
       "│     6 │             28 │\n",
       "│     7 │             32 │\n",
       "│     8 │             39 │\n",
       "│     9 │             36 │\n",
       "│    10 │             23 │\n",
       "│    11 │             29 │\n",
       "│    12 │             37 │\n",
       "├───────┴────────────────┤\n",
       "│ 12 rows      2 columns │\n",
       "└────────────────────────┘"
      ]
     },
     "execution_count": 58,
     "metadata": {},
     "output_type": "execute_result"
    }
   ],
   "source": [
    "ddb.sql(''' \n",
    "\n",
    "    SELECT \n",
    "        EXTRACT(MONTH FROM B.event_timestamp) AS month,\n",
    "        COUNT(1) AS true_positives\n",
    "    FROM case_events A\n",
    "    INNER JOIN detector_events B\n",
    "        ON A.triggering_event_id = B.event_id\n",
    "    GROUP BY 1\n",
    "''')"
   ]
  },
  {
   "cell_type": "code",
   "execution_count": 59,
   "metadata": {},
   "outputs": [
    {
     "data": {
      "text/plain": [
       "┌──────────────────────┐\n",
       "│ average_monthly_fnr  │\n",
       "│        double        │\n",
       "├──────────────────────┤\n",
       "│ 0.013459149127205213 │\n",
       "└──────────────────────┘"
      ]
     },
     "execution_count": 59,
     "metadata": {},
     "output_type": "execute_result"
    }
   ],
   "source": [
    "ddb.sql('''\n",
    "    WITH fn AS (\n",
    "    SELECT \n",
    "        EXTRACT(MONTH FROM reported_event_timestamp) AS month,\n",
    "        COUNT(1) AS false_negatives\n",
    "    FROM customer_case_events\n",
    "    GROUP BY 1\n",
    "),\n",
    "        \n",
    "    tp AS (\n",
    "    SELECT \n",
    "        EXTRACT(MONTH FROM B.event_timestamp) AS month,\n",
    "        COUNT(1) AS true_positives\n",
    "    FROM case_events A\n",
    "    INNER JOIN detector_events B\n",
    "        ON A.triggering_event_id = B.event_id\n",
    "    GROUP BY 1\n",
    "),\n",
    "        \n",
    "    combined_data AS (\n",
    "        SELECT \n",
    "            COALESCE(tp.month, fn.month) AS month,\n",
    "            COALESCE(tp.true_positives, 0) AS true_positives,\n",
    "            COALESCE(fn.false_negatives, 0) AS false_negatives\n",
    "        FROM tp\n",
    "        FULL OUTER JOIN fn\n",
    "            ON tp.month = fn.month\n",
    "    )\n",
    "\n",
    "    SELECT \n",
    "        AVG(false_negatives::FLOAT / (true_positives + false_negatives)) AS average_monthly_fnr\n",
    "    FROM combined_data\n",
    "''')"
   ]
  },
  {
   "cell_type": "markdown",
   "metadata": {},
   "source": [
    "# b. What is the average monthly false discovery rate (FDR) of the ATO product?\n"
   ]
  },
  {
   "cell_type": "code",
   "execution_count": null,
   "metadata": {},
   "outputs": [],
   "source": []
  }
 ],
 "metadata": {
  "kernelspec": {
   "display_name": "Python 3",
   "language": "python",
   "name": "python3"
  },
  "language_info": {
   "codemirror_mode": {
    "name": "ipython",
    "version": 3
   },
   "file_extension": ".py",
   "mimetype": "text/x-python",
   "name": "python",
   "nbconvert_exporter": "python",
   "pygments_lexer": "ipython3",
   "version": "3.13.1"
  }
 },
 "nbformat": 4,
 "nbformat_minor": 2
}
